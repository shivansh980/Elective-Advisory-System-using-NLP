{
 "cells": [
  {
   "cell_type": "code",
   "execution_count": null,
   "metadata": {},
   "outputs": [],
   "source": [
    "import nltk\n",
    "from nltk.tokenize import word_tokenize\n",
    "from nltk.stem import PorterStemmer\n",
    "from nltk.corpus import stopwords\n",
    "from pyswip import Prolog"
   ]
  },
  {
   "cell_type": "code",
   "execution_count": null,
   "metadata": {},
   "outputs": [],
   "source": [
    "swipl = Prolog()\n",
    "swipl.consult(\"new.pl\")"
   ]
  },
  {
   "cell_type": "code",
   "execution_count": null,
   "metadata": {},
   "outputs": [],
   "source": [
    "print('Hello! Welcome to the NLP interface of course advisory system.')\n",
    "sentence = input('Please enter the semester for course suggestion')\n",
    "words= set(stopwords.words(\"english\"))\n",
    "tokens = word_tokenize(sentence)\n",
    "filtered=[]\n",
    "for i in tokens:\n",
    "    if i not in words:\n",
    "        filtered.append(i)\n",
    "filtered\n"
   ]
  },
  {
   "cell_type": "code",
   "execution_count": null,
   "metadata": {},
   "outputs": [],
   "source": [
    "flag = False\n",
    "res=[]\n",
    "sem=[]\n",
    "for I in filtered:\n",
    "    I = I.lower() \n",
    "    if bool(swipl.query(f\"num({I},What)\")):\n",
    "        if len(list(swipl.query(f\"num({I},What)\")))>0:\n",
    "            res.append(list(swipl.query(f\"num({I},What)\")))\n",
    "        \n",
    "for i in res:\n",
    "    sem.append(i[0]['What'])\n",
    "\n",
    "sem\n",
    "number = sem[0]\n",
    "        \n"
   ]
  },
  {
   "cell_type": "code",
   "execution_count": null,
   "metadata": {},
   "outputs": [],
   "source": [
    "res=[]\n",
    "courses=[]\n",
    "for i in sem:\n",
    "    if bool(swipl.query(f\"course(_,_,_,_,{i},What)\")):\n",
    "        res.append(list(swipl.query(f\"course(_,_,_,_,{i},What)\")))\n",
    "res\n",
    "        \n",
    "        \n",
    "    \n",
    "    "
   ]
  },
  {
   "cell_type": "code",
   "execution_count": null,
   "metadata": {},
   "outputs": [],
   "source": [
    "temp = res[0]\n",
    "temp\n",
    "interest=set()\n",
    "for i in temp:\n",
    "    interest.add(i['What'])\n",
    "print('Courses with these domains are available in the selected semester/s:-')\n",
    "for i in interest:\n",
    "    print(i)"
   ]
  },
  {
   "cell_type": "code",
   "execution_count": null,
   "metadata": {},
   "outputs": [],
   "source": [
    "selection=input(\"What are your interests for selection of the courses?\")\n",
    "tokens1 = word_tokenize(selection)\n",
    "filtered1=[]\n",
    "for i in tokens1:\n",
    "    if i not in words:\n",
    "        filtered1.append(i)\n"
   ]
  },
  {
   "cell_type": "code",
   "execution_count": null,
   "metadata": {},
   "outputs": [],
   "source": [
    "filtered1"
   ]
  },
  {
   "cell_type": "code",
   "execution_count": null,
   "metadata": {},
   "outputs": [],
   "source": [
    "final = []\n",
    "mid = []\n",
    "for i in filtered1:\n",
    "    i = i.lower()\n",
    "    if bool(swipl.query(f\"course(_,Name,_,_,{number},{i})\")):\n",
    "        if len(list(swipl.query(f\"course(_,Name,_,_,{number},{i})\")))>0:\n",
    "            mid.append(list(swipl.query(f\"course(_,Name,_,_,{number},{i})\")))\n",
    "    "
   ]
  },
  {
   "cell_type": "code",
   "execution_count": null,
   "metadata": {},
   "outputs": [],
   "source": [
    "for i in mid:\n",
    "    final.append(i[0]['Name'])"
   ]
  },
  {
   "cell_type": "code",
   "execution_count": null,
   "metadata": {},
   "outputs": [],
   "source": [
    "print('You can opt for following courses:-')\n",
    "serial =1\n",
    "for i in final:\n",
    "    print(serial,end=\". \")\n",
    "    print(i)\n",
    "    serial+=1"
   ]
  },
  {
   "cell_type": "code",
   "execution_count": null,
   "metadata": {},
   "outputs": [],
   "source": []
  }
 ],
 "metadata": {
  "kernelspec": {
   "display_name": "Python 3 (ipykernel)",
   "language": "python",
   "name": "python3"
  },
  "language_info": {
   "codemirror_mode": {
    "name": "ipython",
    "version": 3
   },
   "file_extension": ".py",
   "mimetype": "text/x-python",
   "name": "python",
   "nbconvert_exporter": "python",
   "pygments_lexer": "ipython3",
   "version": "3.8.10"
  }
 },
 "nbformat": 4,
 "nbformat_minor": 4
}
